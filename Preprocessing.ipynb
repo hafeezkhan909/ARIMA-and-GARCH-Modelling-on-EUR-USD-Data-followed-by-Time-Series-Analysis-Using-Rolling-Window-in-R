{
 "cells": [
  {
   "cell_type": "code",
   "execution_count": 1,
   "id": "23ebc1c4",
   "metadata": {},
   "outputs": [],
   "source": [
    "import pandas as pd"
   ]
  },
  {
   "cell_type": "code",
   "execution_count": 2,
   "id": "25dec3a2",
   "metadata": {},
   "outputs": [],
   "source": [
    "dataset = pd.read_csv('EURUSD.csv') #Reading the values from the dataset(csv file)"
   ]
  },
  {
   "cell_type": "code",
   "execution_count": 3,
   "id": "bf706077",
   "metadata": {},
   "outputs": [
    {
     "name": "stdout",
     "output_type": "stream",
     "text": [
      "<class 'pandas.core.frame.DataFrame'>\n",
      "RangeIndex: 3345 entries, 0 to 3344\n",
      "Data columns (total 2 columns):\n",
      " #   Column  Non-Null Count  Dtype  \n",
      "---  ------  --------------  -----  \n",
      " 0   Date    3345 non-null   object \n",
      " 1   Price   3319 non-null   float64\n",
      "dtypes: float64(1), object(1)\n",
      "memory usage: 52.4+ KB\n"
     ]
    }
   ],
   "source": [
    "dataset.info()"
   ]
  },
  {
   "cell_type": "code",
   "execution_count": 9,
   "id": "f6b2871c",
   "metadata": {},
   "outputs": [],
   "source": [
    "#dataset = dataset.fillna(limit=5, limit_direction=\"backward\");\n",
    "dataset = dataset.fillna(dataset.rolling(5, min_periods=1).mean().shift())\n",
    "#print(df5)"
   ]
  },
  {
   "cell_type": "code",
   "execution_count": 10,
   "id": "afc8138e",
   "metadata": {},
   "outputs": [
    {
     "name": "stdout",
     "output_type": "stream",
     "text": [
      "<class 'pandas.core.frame.DataFrame'>\n",
      "RangeIndex: 3345 entries, 0 to 3344\n",
      "Data columns (total 2 columns):\n",
      " #   Column  Non-Null Count  Dtype  \n",
      "---  ------  --------------  -----  \n",
      " 0   Date    3345 non-null   object \n",
      " 1   Price   3345 non-null   float64\n",
      "dtypes: float64(1), object(1)\n",
      "memory usage: 52.4+ KB\n"
     ]
    }
   ],
   "source": [
    "dataset.info()"
   ]
  },
  {
   "cell_type": "code",
   "execution_count": 11,
   "id": "d58899ab",
   "metadata": {},
   "outputs": [],
   "source": [
    "dataset.to_csv('DATA2.csv', index=False)"
   ]
  },
  {
   "cell_type": "code",
   "execution_count": null,
   "id": "076d0bae",
   "metadata": {},
   "outputs": [],
   "source": []
  }
 ],
 "metadata": {
  "kernelspec": {
   "display_name": "Python 3",
   "language": "python",
   "name": "python3"
  },
  "language_info": {
   "codemirror_mode": {
    "name": "ipython",
    "version": 3
   },
   "file_extension": ".py",
   "mimetype": "text/x-python",
   "name": "python",
   "nbconvert_exporter": "python",
   "pygments_lexer": "ipython3",
   "version": "3.8.8"
  }
 },
 "nbformat": 4,
 "nbformat_minor": 5
}
